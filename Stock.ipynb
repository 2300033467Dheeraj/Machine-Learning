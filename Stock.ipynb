{
 "cells": [
  {
   "cell_type": "code",
   "execution_count": 13,
   "id": "338f7c7b-bd78-4291-ab07-5a0e530ad1e6",
   "metadata": {},
   "outputs": [],
   "source": [
    "import numpy as np \n",
    "import matplotlib.pyplot as plt\n",
    "# for labeling data in graph\n",
    "import pandas as pd \n",
    "# used to import files\n",
    "from sklearn.linear_model import LinearRegression\n",
    "#to import formulas\n",
    "from sklearn.model_selection import train_test_split  "
   ]
  },
  {
   "cell_type": "code",
   "execution_count": 37,
   "id": "086d2ac1-6acc-4e78-b609-1a2e9268361a",
   "metadata": {},
   "outputs": [
    {
     "data": {
      "text/html": [
       "<div>\n",
       "<style scoped>\n",
       "    .dataframe tbody tr th:only-of-type {\n",
       "        vertical-align: middle;\n",
       "    }\n",
       "\n",
       "    .dataframe tbody tr th {\n",
       "        vertical-align: top;\n",
       "    }\n",
       "\n",
       "    .dataframe thead th {\n",
       "        text-align: right;\n",
       "    }\n",
       "</style>\n",
       "<table border=\"1\" class=\"dataframe\">\n",
       "  <thead>\n",
       "    <tr style=\"text-align: right;\">\n",
       "      <th></th>\n",
       "      <th>Date</th>\n",
       "      <th>Open</th>\n",
       "      <th>High</th>\n",
       "      <th>Low</th>\n",
       "      <th>Close</th>\n",
       "      <th>Shares Traded</th>\n",
       "      <th>Turnover (₹ Cr)</th>\n",
       "    </tr>\n",
       "  </thead>\n",
       "  <tbody>\n",
       "    <tr>\n",
       "      <th>0</th>\n",
       "      <td>04-MAR-2024</td>\n",
       "      <td>22403.50</td>\n",
       "      <td>22440.90</td>\n",
       "      <td>22358.30</td>\n",
       "      <td>22405.60</td>\n",
       "      <td>298794435.0</td>\n",
       "      <td>23771.71</td>\n",
       "    </tr>\n",
       "    <tr>\n",
       "      <th>1</th>\n",
       "      <td>05-MAR-2024</td>\n",
       "      <td>22371.25</td>\n",
       "      <td>22416.90</td>\n",
       "      <td>22269.15</td>\n",
       "      <td>22356.30</td>\n",
       "      <td>296153036.0</td>\n",
       "      <td>29165.37</td>\n",
       "    </tr>\n",
       "    <tr>\n",
       "      <th>2</th>\n",
       "      <td>06-MAR-2024</td>\n",
       "      <td>22327.50</td>\n",
       "      <td>22497.20</td>\n",
       "      <td>22224.35</td>\n",
       "      <td>22474.05</td>\n",
       "      <td>312262560.0</td>\n",
       "      <td>31029.01</td>\n",
       "    </tr>\n",
       "    <tr>\n",
       "      <th>3</th>\n",
       "      <td>07-MAR-2024</td>\n",
       "      <td>22505.30</td>\n",
       "      <td>22525.65</td>\n",
       "      <td>22430.00</td>\n",
       "      <td>22493.55</td>\n",
       "      <td>379865142.0</td>\n",
       "      <td>33558.46</td>\n",
       "    </tr>\n",
       "    <tr>\n",
       "      <th>4</th>\n",
       "      <td>11-MAR-2024</td>\n",
       "      <td>22517.50</td>\n",
       "      <td>22526.60</td>\n",
       "      <td>22307.25</td>\n",
       "      <td>22332.65</td>\n",
       "      <td>277897373.0</td>\n",
       "      <td>27222.37</td>\n",
       "    </tr>\n",
       "  </tbody>\n",
       "</table>\n",
       "</div>"
      ],
      "text/plain": [
       "         Date      Open      High       Low     Close   Shares Traded   \\\n",
       "0  04-MAR-2024  22403.50  22440.90  22358.30  22405.60     298794435.0   \n",
       "1  05-MAR-2024  22371.25  22416.90  22269.15  22356.30     296153036.0   \n",
       "2  06-MAR-2024  22327.50  22497.20  22224.35  22474.05     312262560.0   \n",
       "3  07-MAR-2024  22505.30  22525.65  22430.00  22493.55     379865142.0   \n",
       "4  11-MAR-2024  22517.50  22526.60  22307.25  22332.65     277897373.0   \n",
       "\n",
       "   Turnover (₹ Cr)  \n",
       "0         23771.71  \n",
       "1         29165.37  \n",
       "2         31029.01  \n",
       "3         33558.46  \n",
       "4         27222.37  "
      ]
     },
     "execution_count": 37,
     "metadata": {},
     "output_type": "execute_result"
    }
   ],
   "source": [
    "\n",
    "# Load the CSV file\n",
    "file =pd.read_csv('NIFTY 50-03-03-2024-to-03-03-2025.csv')\n",
    "file.head()"
   ]
  },
  {
   "cell_type": "code",
   "execution_count": 49,
   "id": "03618848-0e5e-4f2a-b698-2ed51239f2f8",
   "metadata": {},
   "outputs": [],
   "source": [
    "x =file.iloc[:,:-1]\n",
    "y = file.iloc[:,:-1]\n"
   ]
  },
  {
   "cell_type": "code",
   "execution_count": null,
   "id": "2351c539-da9e-4c31-904a-b813ae9b7e13",
   "metadata": {},
   "outputs": [],
   "source": []
  }
 ],
 "metadata": {
  "kernelspec": {
   "display_name": "Python [conda env:base] *",
   "language": "python",
   "name": "conda-base-py"
  },
  "language_info": {
   "codemirror_mode": {
    "name": "ipython",
    "version": 3
   },
   "file_extension": ".py",
   "mimetype": "text/x-python",
   "name": "python",
   "nbconvert_exporter": "python",
   "pygments_lexer": "ipython3",
   "version": "3.12.7"
  }
 },
 "nbformat": 4,
 "nbformat_minor": 5
}
